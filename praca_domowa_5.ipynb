{
 "cells": [
  {
   "cell_type": "markdown",
   "metadata": {},
   "source": [
    "## Transformata Fouriera i filtracja przy pomocy maski\n",
    "Celem zadania jest zaimplementowanie filtracji obrazu przy pomocy maski i transformaty Fouriera. \n",
    "Aby tego dokonać należy:\n",
    "1. Przejrzeć część wykładku dotyczącego transformaty Fouriera i filtracji w dziedzinie częstotliwości.\n",
    "2. Znaleźć rozwiązanie na slajdzie.\n",
    "3. Zaimplementować rozwiazanie w odpowiednim miejscu w kodzie.\n",
    "4. Zmierzyć czas wykonania operacji.\n",
    "\n",
    "Filtracja odbywa się w dziedzinie częstotliwości więc:\n",
    "\n",
    "x = F(img) - transformata Fouriera obrazu img\n",
    "\n",
    "m = F(mask) - transformata Fouriera maski. Jak to zrobić zostało wyjaśnione na wykładzie.\n",
    "\n",
    "x' = x * m - mnożenie punktowe\n",
    "\n",
    "y = F^-1(x') - odwrotna transformata Fouriera\n",
    "\n",
    "\n",
    "### Dodatkowo\n",
    "Zaimplementuj funkcję `create_fft_mask` zgodnie z opisem znajdującym się na wykładzie.\n",
    "\n",
    "Zaimplementują funkcję `apply_mask_with_fft` zgodnie z opisem znajdującym się na wykładzie.\n",
    "\n",
    "Zmierz czas wykonywania funkcji `apply_mask_with_fft` i `apply_mask_with_convole` dla danego obrazu i maski składającej się z samych jedynek. Zbadaj czas operacji dla masek o rozmiarze {3, 9, 27, 81}. Kiedy bardziej opłaca się użyć transformaty Fouriera?"
   ]
  },
  {
   "cell_type": "code",
   "execution_count": null,
   "metadata": {},
   "outputs": [
    {
     "name": "stdout",
     "output_type": "stream",
     "text": [
      "(4000, 6000) float32 0.0 0.99916667\n"
     ]
    }
   ],
   "source": [
    "from skimage import io\n",
    "import numpy as np\n",
    "import matplotlib.pyplot as plt\n",
    "from typing import Tuple\n",
    "from scipy import ndimage\n",
    "import time\n",
    "\n",
    "def create_fft_mask(mask: np.ndarray, shape: Tuple[int, int]) -> np.ndarray:\n",
    "    padded_mask = np.zeros(shape, dtype=np.float32)\n",
    "    h, w = mask.shape\n",
    "    padded_mask[:h, :w] = mask\n",
    "    fft_mask = np.fft.fft2(padded_mask)\n",
    "    fft_mask_shifted = np.fft.fftshift(fft_mask)  \n",
    "    return fft_mask_shifted\n",
    "\n",
    "def apply_mask_with_convole(image: np.ndarray, mask: np.ndarray) -> np.ndarray:\n",
    "    return ndimage.convolve(image, mask, mode='constant', cval=0.0)\n",
    "\n",
    "def apply_mask_with_fft(image: np.ndarray, mask: np.ndarray) -> np.ndarray:\n",
    "    fft_mask = create_fft_mask(mask, image.shape)\n",
    "    ## Umieść swój kod tutaj\n",
    "\n",
    "\n",
    "if __name__ == '__main__':\n",
    "    image = io.imread('bardzo-duzy-obraz.jpg', as_gray=True).astype(np.float32)\n",
    "    print(image.shape, image.dtype, image.min(), image.max())\n",
    "    \n",
    "    for filter_size in [3, 9, 27, 81]:\n",
    "        ## Umieść swój kod tutaj\n",
    "        pass\n"
   ]
  }
 ],
 "metadata": {
  "kernelspec": {
   "display_name": "psio-2024",
   "language": "python",
   "name": "python3"
  },
  "language_info": {
   "codemirror_mode": {
    "name": "ipython",
    "version": 3
   },
   "file_extension": ".py",
   "mimetype": "text/x-python",
   "name": "python",
   "nbconvert_exporter": "python",
   "pygments_lexer": "ipython3",
   "version": "3.11.9"
  }
 },
 "nbformat": 4,
 "nbformat_minor": 2
}
